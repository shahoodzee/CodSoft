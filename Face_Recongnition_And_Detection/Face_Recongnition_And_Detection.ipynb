{
  "cells": [
    {
      "cell_type": "markdown",
      "metadata": {
        "colab_type": "text",
        "id": "view-in-github"
      },
      "source": [
        "<a href=\"https://colab.research.google.com/github/shahoodzee/CodSoft/blob/main/Face_Recongnition_And_Detection.ipynb\" target=\"_parent\"><img src=\"https://colab.research.google.com/assets/colab-badge.svg\" alt=\"Open In Colab\"/></a>"
      ]
    },
    {
      "cell_type": "markdown",
      "metadata": {
        "id": "-A2Pk-uYaQVc"
      },
      "source": [
        "# FACE DETECTION"
      ]
    },
    {
      "cell_type": "markdown",
      "metadata": {},
      "source": [
        "\n",
        "## Problem Statement\n",
        "Develop an AI application that can detect and recognize faces in\n",
        "images or videos. Use pre-trained face detection models like Haar\n",
        "cascades or deep learning-based face detectors, and optionally\n",
        "add face recognition capabilities using techniques like Siamese networks or ArcFace."
      ]
    },
    {
      "cell_type": "markdown",
      "metadata": {},
      "source": [
        "## Libraires."
      ]
    },
    {
      "cell_type": "markdown",
      "metadata": {},
      "source": [
        "\n",
        "To develop face detection and recongnition we need to choose our dependencies."
      ]
    },
    {
      "cell_type": "code",
      "execution_count": 28,
      "metadata": {},
      "outputs": [],
      "source": [
        "## Libraries needed\n",
        "import os\n",
        "import cv2\n"
      ]
    },
    {
      "cell_type": "code",
      "execution_count": 29,
      "metadata": {},
      "outputs": [],
      "source": [
        "## Storing the path to classifier and Image in a variable 'path'.\n",
        "classifier_path = './Classifiers/haarcascade_frontalface_default.xml'\n",
        "image_path = './Images/Shahood_Amir.jpg'\n",
        "video_path = './Videos/my_video.mp4'"
      ]
    },
    {
      "cell_type": "code",
      "execution_count": 30,
      "metadata": {},
      "outputs": [],
      "source": [
        "# Load the pre-trained Haarcascades model for face detection\n",
        "face_cascade = cv2.CascadeClassifier(classifier_path)"
      ]
    },
    {
      "cell_type": "markdown",
      "metadata": {},
      "source": [
        "## Detecting Faces in Images"
      ]
    },
    {
      "cell_type": "code",
      "execution_count": 31,
      "metadata": {},
      "outputs": [],
      "source": [
        "# Read the image\n",
        "image = cv2.imread(image_path)"
      ]
    },
    {
      "cell_type": "code",
      "execution_count": 32,
      "metadata": {},
      "outputs": [],
      "source": [
        "# Converting the image into greyscale\n",
        "\n",
        "\n",
        "gray_scale_image = cv2.cvtColor(image, cv2.COLOR_BGR2GRAY)\n",
        "\n",
        "cv2.imshow('GrayScaleImage',gray_scale_image)\n",
        "\n",
        "# waits for user to press any key\n",
        "# (this is necessary to avoid Python kernel form crashing)\n",
        "cv2.waitKey(0)\n",
        "  \n",
        "# closing all open windows\n",
        "cv2.destroyAllWindows()"
      ]
    },
    {
      "cell_type": "code",
      "execution_count": 33,
      "metadata": {},
      "outputs": [],
      "source": [
        "# Detect faces in the grayscale image\n",
        "faces = face_cascade.detectMultiScale(gray_scale_image, scaleFactor=1.1, minNeighbors=5, minSize=(30, 30))"
      ]
    },
    {
      "cell_type": "code",
      "execution_count": 34,
      "metadata": {},
      "outputs": [],
      "source": [
        "# Draw rectangles around the detected faces\n",
        "for (x, y, w, h) in faces:\n",
        "    cv2.rectangle(image, (x, y), (x + w, y + h), (255, 0, 0), 2)"
      ]
    },
    {
      "cell_type": "code",
      "execution_count": 35,
      "metadata": {},
      "outputs": [],
      "source": [
        "# Display the image with detected faces\n",
        "cv2.imshow('Face Detection', image)\n",
        "cv2.waitKey(0)\n",
        "cv2.destroyAllWindows()"
      ]
    },
    {
      "cell_type": "markdown",
      "metadata": {},
      "source": [
        "## How to detect faces in Videos"
      ]
    },
    {
      "cell_type": "code",
      "execution_count": 36,
      "metadata": {},
      "outputs": [],
      "source": [
        "\n",
        "## Function for detecting faces in videos\n",
        "\n",
        "def detection_in_video(video):\n",
        "    while True:\n",
        "        # Read a frame from the video\n",
        "        ret, frame = video.read()\n",
        "        if not ret:\n",
        "            break\n",
        "\n",
        "        # Convert the frame to grayscale\n",
        "        gray = cv2.cvtColor(frame, cv2.COLOR_BGR2GRAY)\n",
        "\n",
        "        # Detect faces in the grayscale frame\n",
        "        faces = face_cascade.detectMultiScale(gray, scaleFactor=1.1, minNeighbors=5, minSize=(30, 30))\n",
        "\n",
        "        # Draw rectangles around the detected faces\n",
        "        for (x, y, w, h) in faces:\n",
        "            cv2.rectangle(frame, (x, y), (x + w, y + h), (255, 0, 0), 2)\n",
        "\n",
        "        # Display the frame with detected faces\n",
        "        cv2.imshow('Face Detection', frame)\n",
        "\n",
        "        # Break the loop if 'q' is pressed\n",
        "        if cv2.waitKey(1) & 0xFF == ord('F'):\n",
        "            break\n",
        "        \n",
        "    #Release the video capture object and close windows\n",
        "    video.release()\n",
        "    cv2.destroyAllWindows()"
      ]
    },
    {
      "cell_type": "code",
      "execution_count": 37,
      "metadata": {},
      "outputs": [],
      "source": [
        "# Read the video file press F to stop the program.\n",
        "\n",
        "# video = cv2.VideoCapture(video_path)\n",
        "# detection_in_video(video)"
      ]
    },
    {
      "cell_type": "markdown",
      "metadata": {},
      "source": [
        "## Detecting face from live camera"
      ]
    },
    {
      "cell_type": "code",
      "execution_count": 38,
      "metadata": {},
      "outputs": [],
      "source": [
        "\n",
        "# def detect_faces_live():\n",
        "    \n",
        "#     feed = cv2.VideoCapture(0)   # Open the default camera (usually webcam at the 0 index)\n",
        "\n",
        "#     while True:\n",
        "#         ret, frame = feed.read() # Read a frame from the camera\n",
        "\n",
        "#         if not ret:             # Check if the frame was read successfully (ret is True). If not, exit the loop.\n",
        "#             break\n",
        "\n",
        "#         gray = cv2.cvtColor(frame, cv2.COLOR_BGR2GRAY)\n",
        "        \n",
        "#         faces = face_cascade.detectMultiScale(gray, scaleFactor=1.1, minNeighbors=5, minSize=(30, 30))\n",
        "\n",
        "#         for (x, y, w, h) in faces:\n",
        "            \n",
        "#             face_area = w * h\n",
        "#             if face_area >= min_face_px:\n",
        "#                 cv2.rectangle(frame, (x, y), (x + w, y + h), (255, 0, 0), 2)\n",
        "\n",
        "#         cv2.imshow('Live Face Detection', frame)\n",
        "\n",
        "#         if cv2.waitKey(1) & 0xFF == ord('F'):  # Press 'q' to exit\n",
        "#             break\n",
        "\n",
        "#     feed.release()\n",
        "#     cv2.destroyAllWindows()\n",
        "\n",
        "# min_face_px = 1000  # Threshold.\n",
        "# detect_faces_live()"
      ]
    },
    {
      "cell_type": "markdown",
      "metadata": {},
      "source": [
        "## DataSet Preprocesing teachniques\n",
        "\n",
        "Dataset link : http://vis-www.cs.umass.edu/lfw/#download"
      ]
    },
    {
      "cell_type": "code",
      "execution_count": 39,
      "metadata": {},
      "outputs": [],
      "source": [
        "# Path to the directory containing the aligned LFW dataset\n",
        "dataset = './Original_Dataset/lfw-deepfunneled/'\n",
        "\n",
        "# Path to the directory where you want to save the preprocessed images\n",
        "preprocessed_data = './Processed_Data/'"
      ]
    },
    {
      "cell_type": "code",
      "execution_count": 40,
      "metadata": {},
      "outputs": [],
      "source": [
        "# ## resizing data\n",
        "\n",
        "# def resize_images(dataset, preprocessed_data):  \n",
        "      \n",
        "#     # Loop through each person's folder in the dataset\n",
        "#     for person in os.listdir(dataset):\n",
        "        \n",
        "#         person = os.path.join(dataset, person)\n",
        "        \n",
        "#         preprocessed_person = os.path.join(preprocessed_data, person)\n",
        "#         os.makedirs(preprocessed_person, exist_ok=True)\n",
        "        \n",
        "#         # Loop through each image in the person's folder \n",
        "#         for img in os.listdir(person):\n",
        "#             img_path = os.path.join(person, img)\n",
        "            \n",
        "#             # Read the image using OpenCV\n",
        "#             image = cv2.imread(img_path)\n",
        "            \n",
        "#             # Resize the image to a common size (e.g., 128x128)\n",
        "#             target_size = (128, 128)\n",
        "#             image = cv2.resize(image, target_size)\n",
        "            \n",
        "#             # Save the preprocessed image to the corresponding folder\n",
        "#             preprocessed_img_path = os.path.join(preprocessed_person, img)\n",
        "#             cv2.imwrite(preprocessed_img_path, image)\n",
        "\n",
        "# print(\"Preprocessing complete.\")"
      ]
    },
    {
      "cell_type": "code",
      "execution_count": 41,
      "metadata": {},
      "outputs": [],
      "source": [
        "# ##Create a ResNet50 model with pre-trained weights for extractin embedding\n",
        "\n",
        "# base_model = resnet50(include_top=False, weights='imagenet', input_tensor=Input(shape=(224, 224, 3)))\n",
        "# model = Model(inputs=base_model.input, outputs=base_model.output)"
      ]
    },
    {
      "cell_type": "code",
      "execution_count": 42,
      "metadata": {},
      "outputs": [],
      "source": [
        "# ## Feature Extraction from dataset\n",
        "\n",
        "# def extract_embeddings(image, model):\n",
        "#     embeddings = model.predict(image)\n",
        "#     return embeddings[0]\n",
        "\n",
        "\n",
        "# def preprocess_dataset(dataset, preprocessed_data):\n",
        "    \n",
        "#     # Loop through each person's folder in the dataset\n",
        "#     for person in os.listdir(dataset):\n",
        "        \n",
        "#         person = os.path.join(dataset, person)\n",
        "        \n",
        "#         preprocessed_person = os.path.join(preprocessed_data, person)\n",
        "#         os.makedirs(preprocessed_person, exist_ok=True)\n",
        "        \n",
        "#         # Loop through each image in the person's folder \n",
        "#         for img in os.listdir(person):\n",
        "#             img_path = os.path.join(person, img)\n",
        "            \n",
        "#             # Read the image using OpenCV\n",
        "#             image = cv2.imread(img_path)\n",
        "            \n",
        "#             # Resize the image to a common size (e.g., 128x128)\n",
        "#             target_size = (128, 128)\n",
        "#             image = cv2.resize(image, target_size)\n",
        "            \n",
        "#             # Normalize pixel values to the range [0, 1]\n",
        "#             image = image.astype('float32') / 255.0\n",
        "            \n",
        "#             image = np.expand_dims(image, axis=0)\n",
        "            \n",
        "#             # Save the preprocessed image to the corresponding folder\n",
        "#             preprocessed_img_path = os.path.join(preprocessed_person, img)\n",
        "#             cv2.imwrite(preprocessed_img_path, image)\n",
        "\n",
        "#     print(\"Preprocessing complete.\")\n",
        " \n",
        "        "
      ]
    },
    {
      "cell_type": "code",
      "execution_count": 43,
      "metadata": {},
      "outputs": [],
      "source": [
        "# preprocess_dataset(dataset,preprocessed_data)"
      ]
    },
    {
      "cell_type": "markdown",
      "metadata": {},
      "source": [
        "## Applying ImageDetection method on the dataset.\n",
        "\n",
        "We will also calculate the precision of the haarbased classifier on the dataset. \n",
        "Dataset path is already defined.\n"
      ]
    },
    {
      "cell_type": "code",
      "execution_count": 44,
      "metadata": {},
      "outputs": [],
      "source": [
        "## face_detection_function\n",
        "\n",
        "def face_detection_function(dataset):\n",
        "\n",
        "    ## tp and fp varibales for precision\n",
        "    true_positives = 0\n",
        "    false_positives = 0\n",
        "    count_files = 0\n",
        "\n",
        "    folders = os.listdir(dataset)\n",
        "\n",
        "    for folder in folders:\n",
        "        \n",
        "        folder_path = os.path.join(dataset, folder)             #Each folder in the dataset\n",
        "        images = os.listdir(folder_path)                        #Each image in a folder is stored in images variable\n",
        "\n",
        "        for image in images:\n",
        "            \n",
        "            \n",
        "            count_files = count_files + 1\n",
        "            image_path = os.path.join(folder_path, image)                   #Setting Image path\n",
        "            image = cv2.imread(image_path)                                  #Reading Image\n",
        "            gray_scale_image = cv2.cvtColor(image, cv2.COLOR_BGR2GRAY)      #Converting into GreyScale\n",
        "                                                                            #Applying mpodel on Image\n",
        "            faces = face_cascade.detectMultiScale(gray_scale_image, scaleFactor=1.1, minNeighbors=5, minSize=(30, 30))\n",
        "\n",
        "            clear_output(wait=True)\n",
        "            print(f'Reading file #{count_files} {image_path}')\n",
        "\n",
        "            if len(faces) > 0:\n",
        "                true_positives += 1\n",
        "                for (x, y, w, h) in faces:\n",
        "                    cv2.rectangle(image, (x, y), (x + w, y + h), (255, 0, 0), 2)\n",
        "            else:\n",
        "                false_positives += 1\n",
        "                \n",
        "    return true_positives, false_positives\n",
        "                \n",
        "true_positives =false_positives = precision = 0\n",
        "\n",
        "# true_positives , false_positives = face_detection_function(dataset) \n",
        "# precision = true_positives / total_samples"
      ]
    },
    {
      "cell_type": "code",
      "execution_count": 45,
      "metadata": {},
      "outputs": [
        {
          "name": "stdout",
          "output_type": "stream",
          "text": [
            "Total Samples: 0\n",
            "True Positives: 0\n",
            "False Positives: 0\n",
            "Precision: 0\n"
          ]
        }
      ],
      "source": [
        "## stats\n",
        "\n",
        "print(f\"Total Samples: {true_positives + false_positives}\")\n",
        "print(f\"True Positives: {true_positives}\")\n",
        "print(f\"False Positives: {false_positives}\")\n",
        "print(f\"Precision: {true_positives}\")"
      ]
    },
    {
      "cell_type": "markdown",
      "metadata": {},
      "source": [
        "# Face Recongnition."
      ]
    },
    {
      "cell_type": "markdown",
      "metadata": {},
      "source": [
        "Integrating image recognition using Arcface (a deep learning-based face recognition method) into your existing code requires more than just a few modifications, as it involves training a deep neural network and embedding computation.\n",
        "\n",
        "Model used is: arcface_iresnet50_v1.0_pretrained from insightface\n",
        "\n",
        "https://github.com/deepinsight/insightface/blob/master/model_zoo/README.md\n",
        "\n",
        "Since we are using a pretrained model on our LFW aligned dataset. We can use face_recognition library. It wil provide us with the necessary image processing needed for the task. Only using this library due to its compatibility with the pretrained model."
      ]
    },
    {
      "cell_type": "markdown",
      "metadata": {},
      "source": [
        "pip install face_recognition\n"
      ]
    },
    {
      "cell_type": "code",
      "execution_count": 48,
      "metadata": {},
      "outputs": [
        {
          "name": "stdout",
          "output_type": "stream",
          "text": [
            "\u001b[H\u001b[J\n"
          ]
        }
      ],
      "source": [
        "import face_recognition\n",
        "import numpy as np\n",
        "\n",
        "import os\n",
        "\n",
        "def clear_screen():\n",
        "    os.system('cls' if os.name == 'nt' else 'clear')\n",
        "    print(\"\\033[H\\033[J\")  # ANSI escape code to clear the screen\n",
        "\n",
        "# Call the function to clear the screen\n",
        "clear_screen()"
      ]
    },
    {
      "cell_type": "code",
      "execution_count": null,
      "metadata": {},
      "outputs": [],
      "source": [
        "persons = os.listdir(dataset)\n",
        "\n",
        "known_face_encodings = []\n",
        "known_face_names = []\n",
        "count = 0;\n",
        "\n",
        "for person in persons:\n",
        "    \n",
        "    person_dir = os.path.join(dataset, person)\n",
        "    images = os.listdir(person_dir)\n",
        "\n",
        "    for image in images:\n",
        "        \n",
        "        count = count + 1 \n",
        "        image_dir = os.path.join(person_dir, image)\n",
        "        image = face_recognition.load_image_file(image_dir)\n",
        "        face_encoding = face_recognition.face_encodings(image)\n",
        "        \n",
        "        clear_screen()\n",
        "        print(f\"Scanning and Encoding file #{count}:- {image_dir}\")\n",
        "\n",
        "        if len(face_encoding) > 0:\n",
        "            known_face_encodings.append(face_encoding[0])\n",
        "            known_face_names.append(person)\n"
      ]
    },
    {
      "cell_type": "code",
      "execution_count": 56,
      "metadata": {},
      "outputs": [],
      "source": [
        "\n",
        "test_image_path = './Test/Images/test_image.jpg'\n",
        "test_image = face_recognition.load_image_file(test_image_path)\n",
        "face_locations = face_recognition.face_locations(test_image)\n",
        "face_encodings = face_recognition.face_encodings(test_image, face_locations)\n",
        "\n",
        "for (top, right, bottom, left), face_encoding in zip(face_locations, face_encodings):\n",
        "    \n",
        "    matches = face_recognition.compare_faces(known_face_encodings, face_encoding)\n",
        "    name = \"Unknown\"        # name is by deffault unknown\n",
        "\n",
        "    face_distances = face_recognition.face_distance(known_face_encodings, face_encoding)\n",
        "    best_match_index = np.argmin(face_distances)\n",
        "\n",
        "    if matches[best_match_index]:\n",
        "        name = known_face_names[best_match_index]\n",
        "        \n",
        "    cv2.rectangle(test_image, (left, top), (right, bottom), (0, 255, 0), 2)\n",
        "    font = cv2.FONT_HERSHEY_DUPLEX\n",
        "    cv2.putText(test_image, name, (left + 6, bottom - 6), font, 0.5, (255, 255, 255), 1)    \n",
        "\n",
        "    \n",
        "cv2.imshow('Face Recognition', test_image)\n",
        "cv2.waitKey(0)\n",
        "cv2.destroyAllWindows()    \n"
      ]
    }
  ],
  "metadata": {
    "colab": {
      "authorship_tag": "ABX9TyNmL63sWuj0G1yeIK82vqkC",
      "include_colab_link": true,
      "provenance": []
    },
    "kernelspec": {
      "display_name": "Python 3",
      "name": "python3"
    },
    "language_info": {
      "codemirror_mode": {
        "name": "ipython",
        "version": 3
      },
      "file_extension": ".py",
      "mimetype": "text/x-python",
      "name": "python",
      "nbconvert_exporter": "python",
      "pygments_lexer": "ipython3",
      "version": "3.10.10"
    }
  },
  "nbformat": 4,
  "nbformat_minor": 0
}
