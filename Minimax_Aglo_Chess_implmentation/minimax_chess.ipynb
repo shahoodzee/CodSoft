{
 "cells": [
  {
   "cell_type": "code",
   "execution_count": 6,
   "metadata": {},
   "outputs": [],
   "source": [
    "# def print_board(board):\n",
    "#     for row in range(3):\n",
    "#         for col in range(3):\n",
    "#             print(board[row * 3 + col + 1], end=\"\")\n",
    "#             if col < 2:\n",
    "#                 print(\" | \", end=\"\")\n",
    "#         print()\n",
    "#         if row < 2:\n",
    "#             print(\"-\" * 9)\n",
    "#     print()\n",
    "    "
   ]
  }
 ],
 "metadata": {
  "kernelspec": {
   "display_name": "Python 3",
   "language": "python",
   "name": "python3"
  },
  "language_info": {
   "codemirror_mode": {
    "name": "ipython",
    "version": 3
   },
   "file_extension": ".py",
   "mimetype": "text/x-python",
   "name": "python",
   "nbconvert_exporter": "python",
   "pygments_lexer": "ipython3",
   "version": "3.10.10"
  },
  "orig_nbformat": 4
 },
 "nbformat": 4,
 "nbformat_minor": 2
}
